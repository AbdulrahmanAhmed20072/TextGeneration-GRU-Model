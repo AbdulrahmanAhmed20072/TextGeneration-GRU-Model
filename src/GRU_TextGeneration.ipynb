{
  "cells": [
    {
      "cell_type": "code",
      "execution_count": 1,
      "metadata": {
        "id": "ldbx2UdoueEV"
      },
      "outputs": [],
      "source": [
        "import os\n",
        "import numpy as np\n",
        "import random as  rnd\n",
        "import tensorflow as tf\n",
        "from tensorflow.keras import layers\n",
        "from tensorflow.keras.layers import Input\n",

        "# set random seed\n",
        "rnd.seed(32)"
      ]
    },
    {
      "cell_type": "code",
      "execution_count": 2,
      "metadata": {
        "id": "FGgNV4O_J7_-",
        "colab": {
          "base_uri": "https://localhost:8080/"
        },
        "outputId": "aa7f647a-c6d1-44da-e92e-660d169d7817"
      },
      "outputs": [
        {
          "output_type": "stream",
          "name": "stdout",
          "text": [
            "Number of lines: 125097\n"
          ]
        }
      ],
      "source": [
        "dirname = './'\n",
        "filename = 'shakespeare_data.txt'\n",
        "lines = [] # storing all the lines in a variable.\n",
        "\n",
        "counter = 0\n",
        "\n",
        "with open(os.path.join(dirname, filename)) as files:\n",
        "    for line in files:\n",
        "        # remove leading and trailing whitespace\n",
        "        pure_line = line.strip().lower()\n",
        "\n",
        "        # if pure_line is not empty string\n",
        "        if pure_line:\n",
        "            lines.append(pure_line)\n",
        "\n",
        "n_lines = len(lines)\n",
        "print(f\"Number of lines: {n_lines}\")"
      ]
    },
    {
      "cell_type": "code",
      "source": [
        "print(\"\\n\".join(lines[510:513]))"
      ],
      "metadata": {
        "colab": {
          "base_uri": "https://localhost:8080/"
        },
        "id": "qC810qQX2WN1",
        "outputId": "14ef8aa5-4de9-4029-f108-504393498a7e"
      },
      "execution_count": 3,
      "outputs": [
        {
          "output_type": "stream",
          "name": "stdout",
          "text": [
            "which, as he breathed defiance to my ears,\n",
            "he swung about his head and cut the winds,\n",
            "who nothing hurt withal hiss'd him in scorn:\n"
          ]
        }
      ]
    },
    {
      "cell_type": "code",
      "source": [
        "text = \"\\n\".join(lines)\n",
        "# The unique characters in the file\n",
        "vocab = sorted(set(text))\n",
        "vocab.insert(0,\"[UNK]\") # Add a special character for any unknown\n",
        "vocab.insert(1,\"\") # Add the empty character for padding.\n",
        "\n",
        "print(f'{len(vocab)} unique characters')\n",
        "print(\" \".join(vocab))"
      ],
      "metadata": {
        "colab": {
          "base_uri": "https://localhost:8080/"
        },
        "id": "RsAbL1cx2w7t",
        "outputId": "e6aef198-c93d-46d5-a921-e2f765c81078"
      },
      "execution_count": 4,
      "outputs": [
        {
          "output_type": "stream",
          "name": "stdout",
          "text": [
            "56 unique characters\n",
            "[UNK]  \t \n",
            "   ! $ & ' ( ) , - . 0 1 2 3 4 5 6 7 8 9 : ; ? [ ] a b c d e f g h i j k l m n o p q r s t u v w x y z |\n"
          ]
        }
      ]
    },
    {
      "cell_type": "code",
      "source": [
        "# an example to explain unicode_split\n",
        "# it splits the string to characters\n",
        "line = \"Hello world!\"\n",
        "chars = tf.strings.unicode_split(line, input_encoding='UTF-8')\n",
        "print(chars)"
      ],
      "metadata": {
        "colab": {
          "base_uri": "https://localhost:8080/"
        },
        "id": "dIDJ3SRV3LSp",
        "outputId": "03d95c96-fff2-4bdb-8d9e-a133b827bc26"
      },
      "execution_count": 5,
      "outputs": [
        {
          "output_type": "stream",
          "name": "stdout",
          "text": [
            "tf.Tensor([b'H' b'e' b'l' b'l' b'o' b' ' b'w' b'o' b'r' b'l' b'd' b'!'], shape=(12,), dtype=string)\n"
          ]
        }
      ]
    },
    {
      "cell_type": "code",
      "source": [
        "# converts tensor of characters to ids\n",
        "ids = tf.keras.layers.StringLookup(vocabulary=list(vocab), mask_token=None)(chars)\n",
        "print(ids)"
      ],
      "metadata": {
        "colab": {
          "base_uri": "https://localhost:8080/"
        },
        "id": "MVe_fNuk65G-",
        "outputId": "9bf2c456-3dca-42bf-e735-e38365fd0d61"
      },
      "execution_count": 6,
      "outputs": [
        {
          "output_type": "stream",
          "name": "stdout",
          "text": [
            "tf.Tensor([ 0 33 40 40 43  4 51 43 46 40 32  5], shape=(12,), dtype=int64)\n"
          ]
        }
      ]
    },
    {
      "cell_type": "code",
      "source": [
        "def line_to_tensor(line, vocab):\n",
        "\n",
        "    \"this function converts string to tensor of numbers\"\n",
        "\n",
        "    # Split the input line into individual characters\n",
        "    chars = tf.strings.unicode_split(line, input_encoding='UTF-8')\n",
        "\n",
        "    # Map characters to their respective integer values using StringLookup\n",
        "    ids = tf.keras.layers.StringLookup(vocabulary=list(vocab), mask_token=None)(chars)\n",
        "\n",
        "    return ids"
      ],
      "metadata": {
        "id": "TclSUb6d3WlE"
      },
      "execution_count": 7,
      "outputs": []
    },
    {
      "cell_type": "code",
      "source": [
        "tmp_ids = line_to_tensor('abc xyz', vocab)\n",
        "print(f\"Result: {tmp_ids}\")\n",
        "print(f\"Output type: {type(tmp_ids)}\")"
      ],
      "metadata": {
        "colab": {
          "base_uri": "https://localhost:8080/"
        },
        "id": "gvjWHEW44h2x",
        "outputId": "c71093e7-197f-43af-81fc-c876505beaaf"
      },
      "execution_count": 8,
      "outputs": [
        {
          "output_type": "stream",
          "name": "stdout",
          "text": [
            "Result: [29 30 31  4 52 53 54]\n",
            "Output type: <class 'tensorflow.python.framework.ops.EagerTensor'>\n"
          ]
        }
      ]
    },
    {
      "cell_type": "code",
      "source": [
        "def text_from_ids(ids, vocab):\n",
        "\n",
        "    \"Converts a tensor of integer values into human-readable text.\"\n",
        "\n",
        "    # Initialize the StringLookup layer to map integer IDs back to characters\n",
        "    chars_from_ids = tf.keras.layers.StringLookup(vocabulary=vocab, invert=True, mask_token=None)\n",
        "\n",
        "    # Use the layer to decode the tensor of IDs into string\n",
        "    return tf.strings.reduce_join(chars_from_ids(ids), axis=-1)"
      ],
      "metadata": {
        "id": "VbjU3Zqv4iPO"
      },
      "execution_count": 9,
      "outputs": []
    },
    {
      "cell_type": "code",
      "source": [
        "text_from_ids(ids, vocab).numpy()"
      ],
      "metadata": {
        "colab": {
          "base_uri": "https://localhost:8080/"
        },
        "id": "wUC0wy--6lsv",
        "outputId": "b5df1dad-4594-4895-9944-fab294a15622"
      },
      "execution_count": 10,
      "outputs": [
        {
          "output_type": "execute_result",
          "data": {
            "text/plain": [
              "b'[UNK]ello world!'"
            ]
          },
          "metadata": {},
          "execution_count": 10
        }
      ]
    },
    {
      "cell_type": "code",
      "source": [
        "train_lines = lines[:-1000]\n",
        "eval_lines = lines[-1000:]\n",
        "\n",
        "print(f\"Number of training lines: {len(train_lines)}\")\n",
        "print(f\"Number of validation lines: {len(eval_lines)}\")"
      ],
      "metadata": {
        "colab": {
          "base_uri": "https://localhost:8080/"
        },
        "id": "dXCAK76m6nh6",
        "outputId": "8b7951e1-5da2-4b77-da86-aa635dd2355f"
      },
      "execution_count": 11,
      "outputs": [
        {
          "output_type": "stream",
          "name": "stdout",
          "text": [
            "Number of training lines: 124097\n",
            "Number of validation lines: 1000\n"
          ]
        }
      ]
    },
    {
      "cell_type": "code",
      "source": [
        "all_ids = line_to_tensor(\"\\n\".join([\"Hello world!\", \"Generative AI\"]), vocab)\n",
        "all_ids.numpy()"
      ],
      "metadata": {
        "colab": {
          "base_uri": "https://localhost:8080/"
        },
        "id": "5NRlCz6u7YoJ",
        "outputId": "eb3502b9-24d2-473d-a8ad-a85fcc65b51c"
      },
      "execution_count": 12,
      "outputs": [
        {
          "output_type": "execute_result",
          "data": {
            "text/plain": [
              "array([ 0, 33, 40, 40, 43,  4, 51, 43, 46, 40, 32,  5,  3,  0, 33, 42, 33,\n",
              "       46, 29, 48, 37, 50, 33,  4,  0,  0])"
            ]
          },
          "metadata": {},
          "execution_count": 12
        }
      ]
    },
    {
      "cell_type": "code",
      "source": [
        "ids_dataset = tf.data.Dataset.from_tensor_slices(all_ids)\n",
        "[text_from_ids([ids], vocab).numpy() for ids in ids_dataset.take(10)]"
      ],
      "metadata": {
        "colab": {
          "base_uri": "https://localhost:8080/"
        },
        "id": "W6GSYel07iqQ",
        "outputId": "dbfd6146-6997-4b47-d87d-cc230b7944b0"
      },
      "execution_count": 13,
      "outputs": [
        {
          "output_type": "execute_result",
          "data": {
            "text/plain": [
              "[b'[UNK]', b'e', b'l', b'l', b'o', b' ', b'w', b'o', b'r', b'l']"
            ]
          },
          "metadata": {},
          "execution_count": 13
        }
      ]
    },
    {
      "cell_type": "code",
      "source": [
        "seq_length = 10\n",
        "# drop_remainder used to drop the last tensor if it doesn't fit the vector dimension\n",
        "# we will know why +1 later\n",
        "data_generator = ids_dataset.batch(seq_length + 1, drop_remainder = True)"
      ],
      "metadata": {
        "id": "UnSMa2_b74dP"
      },
      "execution_count": 14,
      "outputs": []
    },
    {
      "cell_type": "code",
      "source": [
        "list(data_generator)"
      ],
      "metadata": {
        "colab": {
          "base_uri": "https://localhost:8080/"
        },
        "id": "Ri5M_AaW8eDz",
        "outputId": "8dee8656-10e3-45f5-a8f9-c9ffebdfca10"
      },
      "execution_count": 15,
      "outputs": [
        {
          "output_type": "execute_result",
          "data": {
            "text/plain": [
              "[<tf.Tensor: shape=(11,), dtype=int64, numpy=array([ 0, 33, 40, 40, 43,  4, 51, 43, 46, 40, 32])>,\n",
              " <tf.Tensor: shape=(11,), dtype=int64, numpy=array([ 5,  3,  0, 33, 42, 33, 46, 29, 48, 37, 50])>]"
            ]
          },
          "metadata": {},
          "execution_count": 15
        }
      ]
    },
    {
      "cell_type": "code",
      "source": [
        "i = 1\n",
        "for seq in data_generator.take(2):\n",
        "    print(f\"{i}. {text_from_ids(seq, vocab).numpy()}\")\n",
        "    i = i + 1"
      ],
      "metadata": {
        "colab": {
          "base_uri": "https://localhost:8080/"
        },
        "id": "PBg-Bsz18fOk",
        "outputId": "1536889d-7598-4549-8041-7692213abfe9"
      },
      "execution_count": 16,
      "outputs": [
        {
          "output_type": "stream",
          "name": "stdout",
          "text": [
            "1. b'[UNK]ello world'\n",
            "2. b'!\\n[UNK]enerativ'\n"
          ]
        }
      ]
    },
    {
      "cell_type": "code",
      "source": [
        "def split_input_target(sequence):\n",
        "\n",
        "    \"Splits the input sequence into two sequences, where one is shifted by one position.\"\n",
        "\n",
        "    # Create the input sequence by excluding the last character\n",
        "    input_text = sequence[:-1]\n",
        "    # Create the target sequence by excluding the first character\n",
        "    target_text = sequence[1:]\n",
        "\n",
        "    return input_text, target_text"
      ],
      "metadata": {
        "id": "ntTdP3T09c3W"
      },
      "execution_count": 17,
      "outputs": []
    },
    {
      "cell_type": "code",
      "source": [
        "split_input_target(list(\"Tensorflow\"))"
      ],
      "metadata": {
        "colab": {
          "base_uri": "https://localhost:8080/"
        },
        "id": "usSQVmGN97zo",
        "outputId": "7b47a927-afc5-4224-ec87-14d30760f9d5"
      },
      "execution_count": 18,
      "outputs": [
        {
          "output_type": "execute_result",
          "data": {
            "text/plain": [
              "(['T', 'e', 'n', 's', 'o', 'r', 'f', 'l', 'o'],\n",
              " ['e', 'n', 's', 'o', 'r', 'f', 'l', 'o', 'w'])"
            ]
          },
          "metadata": {},
          "execution_count": 18
        }
      ]
    },
    {
      "cell_type": "code",
      "source": [
        "def create_batch_dataset(lines, vocab, seq_length = 100, batch_size = 64):\n",
        "\n",
        "    \"Creates a batch dataset from a list of text lines.\"\n",
        "\n",
        "    BUFFER_SIZE = 10000\n",
        "\n",
        "    # just join all lines into a single line\n",
        "    single_line_data  = \"\\n\".join(lines)\n",
        "\n",
        "    # Convert data into a tensor\n",
        "    all_ids = line_to_tensor(single_line_data, vocab)\n",
        "    # Create a TensorFlow dataset from the data tensor\n",
        "    ids_dataset = tf.data.Dataset.from_tensor_slices(all_ids)\n",
        "\n",
        "    # why +1 is necessary? if we have seq with len 10 we need to split it as input and output like 0:8 and 1:9\n",
        "    # so we need an extra characteror the in/out len of seq will be -1\n",
        "    data_generator = ids_dataset.batch(seq_length + 1, drop_remainder=True)\n",
        "    # Map each input sample using the split_input_target function\n",
        "    dataset_xy = data_generator.map(split_input_target)\n",
        "\n",
        "    # Assemble the final dataset with shuffling, batching, and prefetching\n",
        "    dataset = (dataset_xy.shuffle(BUFFER_SIZE).batch(batch_size, drop_remainder=True))\n",
        "\n",
        "    return dataset"
      ],
      "metadata": {
        "id": "fAkcEuqg9--a"
      },
      "execution_count": 19,
      "outputs": []
    },
    {
      "cell_type": "code",
      "source": [
        "tf.random.set_seed(1)\n",
        "dataset = create_batch_dataset(train_lines, vocab, seq_length=16, batch_size=2)\n",
        "\n",
        "print(\"Prints the elements into a single batch. The batch contains 2 elements: \")\n",
        "\n",
        "for input_example, target_example in dataset.take(1):\n",
        "    print(text_from_ids(input_example[0], vocab).numpy())\n",
        "    print(text_from_ids(target_example[0], vocab).numpy())\n",
        "\n",
        "    print(text_from_ids(input_example[1], vocab).numpy())\n",
        "    print(text_from_ids(target_example[1], vocab).numpy())"
      ],
      "metadata": {
        "colab": {
          "base_uri": "https://localhost:8080/"
        },
        "id": "O0naRveN_vZY",
        "outputId": "15a0e249-2d31-4198-f77c-bd2981a9f2c8"
      },
      "execution_count": 20,
      "outputs": [
        {
          "output_type": "stream",
          "name": "stdout",
          "text": [
            "Prints the elements into a single batch. The batch contains 2 elements: \n",
            "b'ot\\nin these conf'\n",
            "b't\\nin these confu'\n",
            "b\"s'd,\\nto mangle m\"\n",
            "b\"'d,\\nto mangle me\"\n"
          ]
        }
      ]
    },
    {
      "cell_type": "code",
      "source": [
        "BATCH_SIZE = 64\n",
        "dataset = create_batch_dataset(train_lines, vocab, seq_length=100, batch_size = BATCH_SIZE)"
      ],
      "metadata": {
        "id": "veAL6if5__C0"
      },
      "execution_count": 21,
      "outputs": []
    },
    {
      "cell_type": "code",
      "source": [
        "class GRULM(tf.keras.Model):\n",
        "\n",
        "    def __init__(self, vocab_size=256, embedding_dim=256, rnn_units=128):\n",
        "        super().__init__()\n",
        "\n",
        "        # Create an embedding layer to map token indices to embedding vectors\n",
        "        self.embedding = tf.keras.layers.Embedding(input_dim=vocab_size, output_dim=embedding_dim)\n",
        "        # Define a GRU layer for sequence modeling\n",
        "        self.gru = tf.keras.layers.GRU(rnn_units, return_sequences=True, return_state=True)\n",
        "        # Apply a dense layer with log-softmax activation to predict next tokens\n",
        "        self.dense = tf.keras.layers.Dense(vocab_size, activation=tf.nn.log_softmax)\n",
        "\n",
        "    def call(self, inputs, states=None, return_state=False, training=False):\n",
        "\n",
        "        x = inputs\n",
        "\n",
        "        # Map input tokens to embedding vectors\n",
        "        x = self.embedding(x, training=training)\n",
        "\n",
        "        x, states = self.gru(x, initial_state=states, training=training)\n",
        "\n",
        "        # Predict the next tokens and apply log-softmax activation\n",
        "        x = self.dense(x, training = training)\n",
        "\n",
        "        if return_state:\n",
        "            return x, states\n",
        "\n",
        "        else:\n",
        "            return x\n",
        "\n",
        ""
      ],
      "metadata": {
        "id": "Besc2IyvCmcs"
      },
      "execution_count": 22,
      "outputs": []
    },
    {
      "cell_type": "code",
      "source": [
        "vocab_size = 82\n",
        "\n",
        "# The embedding dimension\n",
        "embedding_dim = 256\n",
        "\n",
        "# RNN layers\n",
        "rnn_units = 512\n",
        "\n",
        "model = GRULM(\n",
        "    vocab_size = vocab_size,\n",
        "    embedding_dim = embedding_dim,\n",
        "    rnn_units = rnn_units)"
      ],
      "metadata": {
        "id": "MXl1r5TlEi3A"
      },
      "execution_count": 23,
      "outputs": []
    },
    {
      "cell_type": "code",
      "source": [
        "# model.build(input_shape=(BATCH_SIZE, 100))\n",
        "model.call(Input(shape=(100,)))\n",
        "model.summary()"
      ],
      "metadata": {
        "colab": {
          "base_uri": "https://localhost:8080/",
          "height": 255
        },
        "id": "S-DOu34Mz11o",
        "outputId": "ae1b9594-1375-4abf-8f21-1670dca9bddd"
      },
      "execution_count": 24,
      "outputs": [
        {
          "output_type": "display_data",
          "data": {
            "text/plain": [
              "\u001b[1mModel: \"grulm\"\u001b[0m\n"
            ],
            "text/html": [
              "<pre style=\"white-space:pre;overflow-x:auto;line-height:normal;font-family:Menlo,'DejaVu Sans Mono',consolas,'Courier New',monospace\"><span style=\"font-weight: bold\">Model: \"grulm\"</span>\n",
              "</pre>\n"
            ]
          },
          "metadata": {}
        },
        {
          "output_type": "display_data",
          "data": {
            "text/plain": [
              "┏━━━━━━━━━━━━━━━━━━━━━━━━━━━━━━━━━━━━━━┳━━━━━━━━━━━━━━━━━━━━━━━━━━━━━┳━━━━━━━━━━━━━━━━━┓\n",
              "┃\u001b[1m \u001b[0m\u001b[1mLayer (type)                        \u001b[0m\u001b[1m \u001b[0m┃\u001b[1m \u001b[0m\u001b[1mOutput Shape               \u001b[0m\u001b[1m \u001b[0m┃\u001b[1m \u001b[0m\u001b[1m        Param #\u001b[0m\u001b[1m \u001b[0m┃\n",
              "┡━━━━━━━━━━━━━━━━━━━━━━━━━━━━━━━━━━━━━━╇━━━━━━━━━━━━━━━━━━━━━━━━━━━━━╇━━━━━━━━━━━━━━━━━┩\n",
              "│ embedding (\u001b[38;5;33mEmbedding\u001b[0m)                │ (\u001b[38;5;45mNone\u001b[0m, \u001b[38;5;34m100\u001b[0m, \u001b[38;5;34m256\u001b[0m)            │          \u001b[38;5;34m20,992\u001b[0m │\n",
              "├──────────────────────────────────────┼─────────────────────────────┼─────────────────┤\n",
              "│ gru (\u001b[38;5;33mGRU\u001b[0m)                            │ [(\u001b[38;5;45mNone\u001b[0m, \u001b[38;5;34m100\u001b[0m, \u001b[38;5;34m512\u001b[0m), (\u001b[38;5;45mNone\u001b[0m,   │       \u001b[38;5;34m1,182,720\u001b[0m │\n",
              "│                                      │ \u001b[38;5;34m512\u001b[0m)]                       │                 │\n",
              "├──────────────────────────────────────┼─────────────────────────────┼─────────────────┤\n",
              "│ dense (\u001b[38;5;33mDense\u001b[0m)                        │ (\u001b[38;5;45mNone\u001b[0m, \u001b[38;5;34m100\u001b[0m, \u001b[38;5;34m82\u001b[0m)             │          \u001b[38;5;34m42,066\u001b[0m │\n",
              "└──────────────────────────────────────┴─────────────────────────────┴─────────────────┘\n"
            ],
            "text/html": [
              "<pre style=\"white-space:pre;overflow-x:auto;line-height:normal;font-family:Menlo,'DejaVu Sans Mono',consolas,'Courier New',monospace\">┏━━━━━━━━━━━━━━━━━━━━━━━━━━━━━━━━━━━━━━┳━━━━━━━━━━━━━━━━━━━━━━━━━━━━━┳━━━━━━━━━━━━━━━━━┓\n",
              "┃<span style=\"font-weight: bold\"> Layer (type)                         </span>┃<span style=\"font-weight: bold\"> Output Shape                </span>┃<span style=\"font-weight: bold\">         Param # </span>┃\n",
              "┡━━━━━━━━━━━━━━━━━━━━━━━━━━━━━━━━━━━━━━╇━━━━━━━━━━━━━━━━━━━━━━━━━━━━━╇━━━━━━━━━━━━━━━━━┩\n",
              "│ embedding (<span style=\"color: #0087ff; text-decoration-color: #0087ff\">Embedding</span>)                │ (<span style=\"color: #00d7ff; text-decoration-color: #00d7ff\">None</span>, <span style=\"color: #00af00; text-decoration-color: #00af00\">100</span>, <span style=\"color: #00af00; text-decoration-color: #00af00\">256</span>)            │          <span style=\"color: #00af00; text-decoration-color: #00af00\">20,992</span> │\n",
              "├──────────────────────────────────────┼─────────────────────────────┼─────────────────┤\n",
              "│ gru (<span style=\"color: #0087ff; text-decoration-color: #0087ff\">GRU</span>)                            │ [(<span style=\"color: #00d7ff; text-decoration-color: #00d7ff\">None</span>, <span style=\"color: #00af00; text-decoration-color: #00af00\">100</span>, <span style=\"color: #00af00; text-decoration-color: #00af00\">512</span>), (<span style=\"color: #00d7ff; text-decoration-color: #00d7ff\">None</span>,   │       <span style=\"color: #00af00; text-decoration-color: #00af00\">1,182,720</span> │\n",
              "│                                      │ <span style=\"color: #00af00; text-decoration-color: #00af00\">512</span>)]                       │                 │\n",
              "├──────────────────────────────────────┼─────────────────────────────┼─────────────────┤\n",
              "│ dense (<span style=\"color: #0087ff; text-decoration-color: #0087ff\">Dense</span>)                        │ (<span style=\"color: #00d7ff; text-decoration-color: #00d7ff\">None</span>, <span style=\"color: #00af00; text-decoration-color: #00af00\">100</span>, <span style=\"color: #00af00; text-decoration-color: #00af00\">82</span>)             │          <span style=\"color: #00af00; text-decoration-color: #00af00\">42,066</span> │\n",
              "└──────────────────────────────────────┴─────────────────────────────┴─────────────────┘\n",
              "</pre>\n"
            ]
          },
          "metadata": {}
        },
        {
          "output_type": "display_data",
          "data": {
            "text/plain": [
              "\u001b[1m Total params: \u001b[0m\u001b[38;5;34m1,245,778\u001b[0m (4.75 MB)\n"
            ],
            "text/html": [
              "<pre style=\"white-space:pre;overflow-x:auto;line-height:normal;font-family:Menlo,'DejaVu Sans Mono',consolas,'Courier New',monospace\"><span style=\"font-weight: bold\"> Total params: </span><span style=\"color: #00af00; text-decoration-color: #00af00\">1,245,778</span> (4.75 MB)\n",
              "</pre>\n"
            ]
          },
          "metadata": {}
        },
        {
          "output_type": "display_data",
          "data": {
            "text/plain": [
              "\u001b[1m Trainable params: \u001b[0m\u001b[38;5;34m1,245,778\u001b[0m (4.75 MB)\n"
            ],
            "text/html": [
              "<pre style=\"white-space:pre;overflow-x:auto;line-height:normal;font-family:Menlo,'DejaVu Sans Mono',consolas,'Courier New',monospace\"><span style=\"font-weight: bold\"> Trainable params: </span><span style=\"color: #00af00; text-decoration-color: #00af00\">1,245,778</span> (4.75 MB)\n",
              "</pre>\n"
            ]
          },
          "metadata": {}
        },
        {
          "output_type": "display_data",
          "data": {
            "text/plain": [
              "\u001b[1m Non-trainable params: \u001b[0m\u001b[38;5;34m0\u001b[0m (0.00 B)\n"
            ],
            "text/html": [
              "<pre style=\"white-space:pre;overflow-x:auto;line-height:normal;font-family:Menlo,'DejaVu Sans Mono',consolas,'Courier New',monospace\"><span style=\"font-weight: bold\"> Non-trainable params: </span><span style=\"color: #00af00; text-decoration-color: #00af00\">0</span> (0.00 B)\n",
              "</pre>\n"
            ]
          },
          "metadata": {}
        }
      ]
    },
    {
      "cell_type": "code",
      "source": [
        "def compile_model(model):\n",
        "\n",
        "    \"Sets the loss and optimizer for the given model\"\n",
        "\n",
        "    # Define the loss function\n",
        "    # we set from_logits to True because the model produces log probabilities which is not directly proba\n",
        "    loss = tf.keras.losses.SparseCategoricalCrossentropy(from_logits = True)\n",
        "\n",
        "    # Define the optimizer\n",
        "    opt = tf.keras.optimizers.Adam(learning_rate=0.0125)\n",
        "\n",
        "    # Compile the model\n",
        "    model.compile(optimizer = opt, loss = loss)\n",
        "\n",
        "    return model"
      ],
      "metadata": {
        "id": "Al9iiw5EE-v1"
      },
      "execution_count": 25,
      "outputs": []
    },
    {
      "cell_type": "code",
      "source": [
        "EPOCHS = 2\n",
        "\n",
        "model = compile_model(model)\n",
        "\n",
        "history = model.fit(dataset, epochs = EPOCHS)"
      ],
      "metadata": {
        "colab": {
          "base_uri": "https://localhost:8080/"
        },
        "collapsed": true,
        "id": "RVBPvJHFxzcA",
        "outputId": "9fb674f7-f606-43ab-fbf7-4b128ca560e3"
      },
      "execution_count": 26,
      "outputs": [
        {
          "output_type": "stream",
          "name": "stdout",
          "text": [
            "Epoch 1/2\n",
            "\u001b[1m790/790\u001b[0m \u001b[32m━━━━━━━━━━━━━━━━━━━━\u001b[0m\u001b[37m\u001b[0m \u001b[1m1196s\u001b[0m 2s/step - loss: 2.4939\n",
            "Epoch 2/2\n",
            "\u001b[1m790/790\u001b[0m \u001b[32m━━━━━━━━━━━━━━━━━━━━\u001b[0m\u001b[37m\u001b[0m \u001b[1m1218s\u001b[0m 2s/step - loss: 1.9699\n"
          ]
        }
      ]
    },
    {
      "cell_type": "code",
      "source": [
        "output_dir = 'model.weights.h5'\n",
        "\n",
        "try:\n",
        "   os.path.exists(output_dir)\n",
        "   print(\"Directory exists\")\n",
        "except:\n",
        "   os.path.mkdir(output_dir)\n",
        "   print(\"Directory created\")\n",
        "\n",
        "model.save_weights(output_dir)"
      ],
      "metadata": {
        "colab": {
          "base_uri": "https://localhost:8080/"
        },
        "id": "W-pocF7w1Mx7",
        "outputId": "2448fdeb-4239-46e2-9cd2-99d0ed6e7f99"
      },
      "execution_count": 27,
      "outputs": [
        {
          "output_type": "stream",
          "name": "stdout",
          "text": [
            "Directory exists\n"
          ]
        }
      ]
    },
    {
      "cell_type": "markdown",
      "source": [
        "![Screenshot (671).png](data:image/png;base64,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)"
      ],
      "metadata": {
        "id": "78hkkGTItnTO"
      }
    },
    {
      "cell_type": "code",
      "source": [
        "def log_perplexity(preds, target):\n",
        "\n",
        "    \"Function to calculate the log perplexity of a model\"\n",
        "\n",
        "    PADDING_ID = 1\n",
        "\n",
        "    # Calculate log probabilities for predictions using one-hot encoding\n",
        "    log_p = np.sum(tf.one_hot(target, depth=preds.shape[-1]) * preds, axis= -1)\n",
        "\n",
        "    # Identifies padding positions (1 for padding, 0 otherwise) then (1.0-)invert it (1 for non-padding, 0 for padding)\n",
        "    non_pad = 1.0 - np.equal(target, PADDING_ID)\n",
        "\n",
        "    # Apply non-padding mask to log probabilities to exclude padding\n",
        "    log_p = log_p * non_pad\n",
        "\n",
        "    # Calculate the log perplexity by taking the sum of log probabilities and dividing by the sum of non-padding elements\n",
        "    log_ppx = np.sum(log_p, axis= -1) / np.sum(non_pad, axis=-1)\n",
        "\n",
        "    # Compute the mean of log perplexity\n",
        "    log_ppx = np.mean(log_ppx)\n",
        "\n",
        "    return -log_ppx"
      ],
      "metadata": {
        "id": "fqB09BiZzccO"
      },
      "execution_count": 28,
      "outputs": []
    },
    {
      "cell_type": "code",
      "source": [
        "vocab_size = len(vocab)\n",
        "embedding_dim = 256\n",
        "rnn_units = 512\n",
        "\n",
        "model = GRULM(\n",
        "    vocab_size=vocab_size,\n",
        "    embedding_dim=embedding_dim,\n",
        "    rnn_units = rnn_units)\n",
        "\n",
        "# model.build(input_shape=(100, vocab_size))\n",
        "\n",
        "model.load_weights('model.weights.h5')"
      ],
      "metadata": {
        "id": "bTmwvgyAt2oA"
      },
      "execution_count": 29,
      "outputs": []
    },
    {
      "cell_type": "code",
      "source": [
        "eval_text = \"\\n\".join(eval_lines)\n",
        "eval_ids = line_to_tensor([eval_text], vocab)\n",
        "input_ids, target_ids = split_input_target(tf.squeeze(eval_ids, axis = 0))\n",
        "\n",
        "preds, status = model(tf.expand_dims(input_ids, 0),\n",
        "                      training=False, states=None,\n",
        "                      return_state=True)\n",
        "\n",
        "#Get the log perplexity\n",
        "log_ppx = log_perplexity(preds, tf.expand_dims(target_ids, 0))\n",
        "print(f'log perplexity: {log_ppx}')"
      ],
      "metadata": {
        "colab": {
          "base_uri": "https://localhost:8080/"
        },
        "id": "yWrGjM3qyxOp",
        "outputId": "38f7a64e-9a39-43cf-b73d-d2612557141d"
      },
      "execution_count": 30,
      "outputs": [
        {
          "output_type": "stream",
          "name": "stdout",
          "text": [
            "log perplexity: 4.025095951886058\n"
          ]
        }
      ]
    },
    {
      "cell_type": "code",
      "source": [
        "def temperature_random_sampling(log_probs, temperature = 1.0):\n",
        "\n",
        "    \"\"\"\n",
        "    The higher the temperature, the more random the output.\n",
        "    If temperature is close to 0, it means that the model\n",
        "    will just return the index of the character with the highest input log_score\n",
        "    \"\"\"\n",
        "\n",
        "   # Generate uniform random numbers with a slight offset to avoid log(0)\n",
        "    u = tf.random.uniform(minval = 1e-6, maxval = 1.0 - 1e-6, shape = log_probs.shape)\n",
        "\n",
        "    # Apply the Gumbel distribution transformation for randomness\n",
        "    g = -tf.math.log(-tf.math.log(u))\n",
        "\n",
        "    # Adjust the logits with the temperature and choose the character with the highest score\n",
        "    return tf.math.argmax(log_probs + g * temperature, axis = -1)"
      ],
      "metadata": {
        "id": "SluVwapGDhcS"
      },
      "execution_count": 31,
      "outputs": []
    },
    {
      "cell_type": "code",
      "source": [
        "class GenerativeModel(tf.keras.Model):\n",
        "    def __init__(self, model, vocab, temperature=1.0):\n",
        "\n",
        "        \"A generative model for text generation.\"\n",
        "\n",
        "        super().__init__()\n",
        "\n",
        "        self.temperature = temperature\n",
        "        self.model = model\n",
        "        self.vocab = vocab\n",
        "\n",
        "    @tf.function\n",
        "    def generate_one_step(self, inputs, states = None):\n",
        "\n",
        "        \"Generate a single character and update the model state.\"\n",
        "\n",
        "        # Transform the inputs into tensors\n",
        "        input_ids = line_to_tensor(inputs, self.vocab)\n",
        "\n",
        "        # Ensure the tensor is dense\n",
        "        input_ids = input_ids.to_tensor()\n",
        "\n",
        "        # Predict the sequence for the given input_ids. Use the states and return_state=True\n",
        "        predicted_logits, states = self.model(input_ids, states, return_state = True)\n",
        "\n",
        "        # Get only last element of the sequence, the last hidden state hold the represetation for the sequence\n",
        "        predicted_logits = predicted_logits[0, -1, :]\n",
        "\n",
        "        # Use the temperature_random_sampling to generate the next character\n",
        "        predicted_ids = temperature_random_sampling(predicted_logits, self.temperature)\n",
        "\n",
        "        # Use the chars_from_ids to transform the id into the corresponding char\n",
        "        predicted_chars = text_from_ids([predicted_ids], self.vocab)\n",
        "\n",
        "        # Return the characters and model state.\n",
        "        return tf.expand_dims(predicted_chars, 0), states\n",
        "\n",
        "    def generate_n_chars(self, num_chars, prefix):\n",
        "\n",
        "        \"Generate a text sequence of a specified length, starting with a given prefix.\"\n",
        "\n",
        "        states = None\n",
        "        next_char = tf.constant([prefix])\n",
        "        result = [next_char]\n",
        "\n",
        "        for n in range(num_chars):\n",
        "            next_char, states = self.generate_one_step(next_char, states = states)\n",
        "            result.append(next_char)\n",
        "\n",
        "        return tf.strings.join(result)[0].numpy().decode('utf-8')"
      ],
      "metadata": {
        "id": "9aabw9QRFxMq"
      },
      "execution_count": 32,
      "outputs": []
    },
    {
      "cell_type": "code",
      "source": [
        "tf.random.set_seed(272)\n",
        "gen = GenerativeModel(model, vocab, temperature = 0.5)\n",
        "\n",
        "print(gen.generate_n_chars(32, \" \"), '\\n\\n' + '_'*80)\n",
        "print(gen.generate_n_chars(32, \"Dear\"), '\\n\\n' + '_'*80)\n",
        "print(gen.generate_n_chars(32, \"KING\"), '\\n\\n' + '_'*80)"
      ],
      "metadata": {
        "colab": {
          "base_uri": "https://localhost:8080/"
        },
        "collapsed": true,
        "id": "nONUwGTyHglY",
        "outputId": "b6559072-f024-4063-d7e1-8acd61d24749"
      },
      "execution_count": 35,
      "outputs": [
        {
          "output_type": "stream",
          "name": "stdout",
          "text": [
            " &&0\n",
            "2gbwc']-nc)vd6)(x0?n-|rw7e[UNK]m \n",
            "\n",
            "________________________________________________________________________________\n",
            "Dear0spwt:\t?z ]x]n[cz08 v[r-&fe;:q-& \n",
            "\n",
            "________________________________________________________________________________\n",
            "KING\n",
            ":'j[UNK]oa;e\n",
            "2.70io$sy)[UNK]?2!:l!(gee? \n",
            "\n",
            "________________________________________________________________________________\n"
          ]
        }
      ]
    },
    {
      "cell_type": "code",
      "source": [],
      "metadata": {
        "id": "Q96K7mnbgvOG"
      },
      "execution_count": null,
      "outputs": []
    }
  ],
  "metadata": {
    "colab": {
      "provenance": []
    },
    "kernelspec": {
      "display_name": "Python 3",
      "name": "python3"
    },
    "language_info": {
      "name": "python"
    }
  },
  "nbformat": 4,
  "nbformat_minor": 0
}
